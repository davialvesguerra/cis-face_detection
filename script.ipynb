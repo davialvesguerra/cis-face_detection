{
 "cells": [
  {
   "cell_type": "code",
   "execution_count": 2,
   "metadata": {},
   "outputs": [],
   "source": [
    "#%%Importar o opencsv\n",
    "import cv2\n",
    "import tensorflow as tf\n",
    "import numpy as np\n"
   ]
  },
  {
   "cell_type": "code",
   "execution_count": 3,
   "metadata": {},
   "outputs": [
    {
     "ename": "AttributeError",
     "evalue": "'numpy.ndarray' object has no attribute 'load_img'",
     "output_type": "error",
     "traceback": [
      "\u001b[1;31m---------------------------------------------------------------------------\u001b[0m",
      "\u001b[1;31mAttributeError\u001b[0m                            Traceback (most recent call last)",
      "Cell \u001b[1;32mIn [3], line 1\u001b[0m\n\u001b[1;32m----> 1\u001b[0m img \u001b[39m=\u001b[39m image\u001b[39m.\u001b[39;49mload_img(\u001b[39m\"\u001b[39m\u001b[39m../input/emotion-detection-fer/test/happy/im1021.png\u001b[39m\u001b[39m\"\u001b[39m,target_size \u001b[39m=\u001b[39m (\u001b[39m48\u001b[39m,\u001b[39m48\u001b[39m),color_mode \u001b[39m=\u001b[39m \u001b[39m\"\u001b[39m\u001b[39mgrayscale\u001b[39m\u001b[39m\"\u001b[39m)\n\u001b[0;32m      2\u001b[0m img \u001b[39m=\u001b[39m np\u001b[39m.\u001b[39marray(img)\n\u001b[0;32m      3\u001b[0m plt\u001b[39m.\u001b[39mimshow(img)\n",
      "\u001b[1;31mAttributeError\u001b[0m: 'numpy.ndarray' object has no attribute 'load_img'"
     ]
    }
   ],
   "source": [
    "img = image.load_img(\"../input/emotion-detection-fer/test/happy/im1021.png\",target_size = (48,48),color_mode = \"grayscale\")\n",
    "img = np.array(img)\n",
    "plt.imshow(img)\n",
    "print(img.shape)"
   ]
  },
  {
   "cell_type": "code",
   "execution_count": 9,
   "metadata": {},
   "outputs": [
    {
     "data": {
      "text/plain": [
       "(1, 48, 48, 1)"
      ]
     },
     "execution_count": 9,
     "metadata": {},
     "output_type": "execute_result"
    }
   ],
   "source": [
    "#%%\n",
    "model = tf.keras.models.load_model('model_optimal.h5')\n",
    "model\n",
    "\n",
    "#makes image shape (1,48,48)\n",
    "\n",
    "\n",
    "image = cv2.imread('perfil3.jpeg', 0)\n",
    "image = cv2.resize(image, (48, 48))\n",
    "image = np.expand_dims(image,axis = 0) \n",
    "image = image.reshape(1,48,48,1)\n",
    "image.shape\n"
   ]
  },
  {
   "cell_type": "code",
   "execution_count": 29,
   "metadata": {},
   "outputs": [
    {
     "data": {
      "text/plain": [
       "(48, 48, 1)"
      ]
     },
     "execution_count": 29,
     "metadata": {},
     "output_type": "execute_result"
    }
   ],
   "source": [
    "image.shape"
   ]
  },
  {
   "cell_type": "code",
   "execution_count": 6,
   "metadata": {},
   "outputs": [
    {
     "name": "stdout",
     "output_type": "stream",
     "text": [
      "1/1 [==============================] - 0s 31ms/step\n",
      "[5.493997e-36, 1.0, 3.4147035e-33, 0.0, 0.0, 0.0, 0.0]\n",
      "Disgust\n"
     ]
    }
   ],
   "source": [
    "result = model.predict(image)\n",
    "result = list(result[0])\n",
    "print(result)\n",
    "\n",
    "label_dict = {0:'Angry',1:'Disgust',2:'Fear',3:'Happy',4:'Neutral',5:'Sad',6:'Surprise'}\n",
    "img_index = result.index(max(result))\n",
    "print(label_dict[img_index])"
   ]
  }
 ],
 "metadata": {
  "kernelspec": {
   "display_name": "Python 3.9.5 ('cis-face-detection')",
   "language": "python",
   "name": "python3"
  },
  "language_info": {
   "codemirror_mode": {
    "name": "ipython",
    "version": 3
   },
   "file_extension": ".py",
   "mimetype": "text/x-python",
   "name": "python",
   "nbconvert_exporter": "python",
   "pygments_lexer": "ipython3",
   "version": "3.9.5"
  },
  "orig_nbformat": 4,
  "vscode": {
   "interpreter": {
    "hash": "c9ee5cdb86aeccfe3ee3f4969d9d8a8eb448208d5b9b41c26eec8bda6963fc22"
   }
  }
 },
 "nbformat": 4,
 "nbformat_minor": 2
}
