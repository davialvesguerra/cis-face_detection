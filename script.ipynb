{
 "cells": [
  {
   "cell_type": "code",
   "execution_count": 2,
   "metadata": {},
   "outputs": [],
   "source": [
    "import pandas as pd\n",
    "import numpy as np\n",
    "from matplotlib import pyplot as plt\n",
    "from tensorflow.keras.models import load_model"
   ]
  },
  {
   "cell_type": "code",
   "execution_count": 4,
   "metadata": {},
   "outputs": [
    {
     "data": {
      "text/html": [
       "<div>\n",
       "<style scoped>\n",
       "    .dataframe tbody tr th:only-of-type {\n",
       "        vertical-align: middle;\n",
       "    }\n",
       "\n",
       "    .dataframe tbody tr th {\n",
       "        vertical-align: top;\n",
       "    }\n",
       "\n",
       "    .dataframe thead th {\n",
       "        text-align: right;\n",
       "    }\n",
       "</style>\n",
       "<table border=\"1\" class=\"dataframe\">\n",
       "  <thead>\n",
       "    <tr style=\"text-align: right;\">\n",
       "      <th></th>\n",
       "      <th>emotion</th>\n",
       "      <th>pixels</th>\n",
       "    </tr>\n",
       "  </thead>\n",
       "  <tbody>\n",
       "    <tr>\n",
       "      <th>0</th>\n",
       "      <td>0</td>\n",
       "      <td>70 80 82 72 58 58 60 63 54 58 60 48 89 115 121...</td>\n",
       "    </tr>\n",
       "    <tr>\n",
       "      <th>1</th>\n",
       "      <td>0</td>\n",
       "      <td>151 150 147 155 148 133 111 140 170 174 182 15...</td>\n",
       "    </tr>\n",
       "    <tr>\n",
       "      <th>2</th>\n",
       "      <td>2</td>\n",
       "      <td>231 212 156 164 174 138 161 173 182 200 106 38...</td>\n",
       "    </tr>\n",
       "    <tr>\n",
       "      <th>3</th>\n",
       "      <td>4</td>\n",
       "      <td>24 32 36 30 32 23 19 20 30 41 21 22 32 34 21 1...</td>\n",
       "    </tr>\n",
       "    <tr>\n",
       "      <th>4</th>\n",
       "      <td>6</td>\n",
       "      <td>4 0 0 0 0 0 0 0 0 0 0 0 3 15 23 28 48 50 58 84...</td>\n",
       "    </tr>\n",
       "    <tr>\n",
       "      <th>...</th>\n",
       "      <td>...</td>\n",
       "      <td>...</td>\n",
       "    </tr>\n",
       "    <tr>\n",
       "      <th>28704</th>\n",
       "      <td>2</td>\n",
       "      <td>84 85 85 85 85 85 85 85 86 86 86 87 86 86 91 9...</td>\n",
       "    </tr>\n",
       "    <tr>\n",
       "      <th>28705</th>\n",
       "      <td>0</td>\n",
       "      <td>114 112 113 113 111 111 112 113 115 113 114 11...</td>\n",
       "    </tr>\n",
       "    <tr>\n",
       "      <th>28706</th>\n",
       "      <td>4</td>\n",
       "      <td>74 81 87 89 95 100 98 93 105 120 127 133 146 1...</td>\n",
       "    </tr>\n",
       "    <tr>\n",
       "      <th>28707</th>\n",
       "      <td>0</td>\n",
       "      <td>222 227 203 90 86 90 84 77 94 87 99 119 134 14...</td>\n",
       "    </tr>\n",
       "    <tr>\n",
       "      <th>28708</th>\n",
       "      <td>4</td>\n",
       "      <td>195 199 205 206 205 203 206 209 208 210 212 21...</td>\n",
       "    </tr>\n",
       "  </tbody>\n",
       "</table>\n",
       "<p>28709 rows × 2 columns</p>\n",
       "</div>"
      ],
      "text/plain": [
       "       emotion                                             pixels\n",
       "0            0  70 80 82 72 58 58 60 63 54 58 60 48 89 115 121...\n",
       "1            0  151 150 147 155 148 133 111 140 170 174 182 15...\n",
       "2            2  231 212 156 164 174 138 161 173 182 200 106 38...\n",
       "3            4  24 32 36 30 32 23 19 20 30 41 21 22 32 34 21 1...\n",
       "4            6  4 0 0 0 0 0 0 0 0 0 0 0 3 15 23 28 48 50 58 84...\n",
       "...        ...                                                ...\n",
       "28704        2  84 85 85 85 85 85 85 85 86 86 86 87 86 86 91 9...\n",
       "28705        0  114 112 113 113 111 111 112 113 115 113 114 11...\n",
       "28706        4  74 81 87 89 95 100 98 93 105 120 127 133 146 1...\n",
       "28707        0  222 227 203 90 86 90 84 77 94 87 99 119 134 14...\n",
       "28708        4  195 199 205 206 205 203 206 209 208 210 212 21...\n",
       "\n",
       "[28709 rows x 2 columns]"
      ]
     },
     "execution_count": 4,
     "metadata": {},
     "output_type": "execute_result"
    }
   ],
   "source": [
    "data_train = pd.read_csv('datasets/train.csv')\n",
    "data_train"
   ]
  },
  {
   "cell_type": "code",
   "execution_count": 48,
   "metadata": {},
   "outputs": [
    {
     "data": {
      "text/plain": [
       "array([[0.58984375, 0.5859375 , 0.57421875, ..., 0.42578125, 0.48046875,\n",
       "        0.5703125 ],\n",
       "       [0.58984375, 0.59375   , 0.60546875, ..., 0.45703125, 0.57421875,\n",
       "        0.37109375],\n",
       "       [0.58203125, 0.49609375, 0.50390625, ..., 0.35546875, 0.2890625 ,\n",
       "        0.60546875],\n",
       "       ...,\n",
       "       [0.73828125, 0.73828125, 0.6640625 , ..., 0.74609375, 0.7265625 ,\n",
       "        0.71484375],\n",
       "       [0.2890625 , 0.25      , 0.65234375, ..., 0.73046875, 0.71875   ,\n",
       "        0.71875   ],\n",
       "       [0.734375  , 0.734375  , 0.47265625, ..., 0.75390625, 0.71484375,\n",
       "        0.71875   ]])"
      ]
     },
     "execution_count": 48,
     "metadata": {},
     "output_type": "execute_result"
    }
   ],
   "source": [
    "img1 = data_train.iloc[1,1]\n",
    "img1 = np.array(img1)\n",
    "img1 = np.array([int(x) for x in img1.tolist().split()])\n",
    "img1 = img1.reshape((16,144))/256\n",
    "img1\n",
    "\n"
   ]
  },
  {
   "cell_type": "code",
   "execution_count": 50,
   "metadata": {},
   "outputs": [
    {
     "data": {
      "image/png": "[encoded data removed]",
      "text/plain": [
       "<Figure size 640x480 with 1 Axes>"
      ]
     },
     "metadata": {},
     "output_type": "display_data"
    }
   ],
   "source": [
    "plt.imshow(img1)\n",
    "plt.show()"
   ]
  }
 ],
 "metadata": {
  "kernelspec": {
   "display_name": "Python 3.9.5 ('cis-face-detection')",
   "language": "python",
   "name": "python3"
  },
  "language_info": {
   "codemirror_mode": {
    "name": "ipython",
    "version": 3
   },
   "file_extension": ".py",
   "mimetype": "text/x-python",
   "name": "python",
   "nbconvert_exporter": "python",
   "pygments_lexer": "ipython3",
   "version": "3.9.5"
  },
  "orig_nbformat": 4,
  "vscode": {
   "interpreter": {
    "hash": "c9ee5cdb86aeccfe3ee3f4969d9d8a8eb448208d5b9b41c26eec8bda6963fc22"
   }
  }
 },
 "nbformat": 4,
 "nbformat_minor": 2
}
